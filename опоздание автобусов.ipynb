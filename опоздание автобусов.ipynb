{
 "cells": [
  {
   "cell_type": "code",
   "execution_count": 1,
   "id": "15eaeafd-c640-4228-b3bd-40a4280346b6",
   "metadata": {
    "tags": []
   },
   "outputs": [],
   "source": [
    "import numpy as np \n",
    "import pandas as pd \n",
    "from datetime import datetime\n",
    "from datetime import timedelta\n",
    "import matplotlib.pyplot as plt\n",
    "import seaborn as sns\n",
    "import datetime as dt"
   ]
  },
  {
   "cell_type": "markdown",
   "id": "89039dd1-b9d5-4def-8e34-662700089b83",
   "metadata": {},
   "source": [
    "Датасет - `bus_table.csv`\n",
    "- `data` - дата\n",
    "- `route` - название маршрута автобуса\n",
    "- `direction` - направление маршрута\n",
    "- `scheduled` - время прибыттия по расписанию\n",
    "- `actual` - фактическое время прибытия"
   ]
  },
  {
   "cell_type": "code",
   "execution_count": 3,
   "id": "f0eb4eee-c5f3-4964-8769-cd9a51bdecc1",
   "metadata": {
    "tags": []
   },
   "outputs": [
    {
     "data": {
      "text/html": [
       "<div>\n",
       "<style scoped>\n",
       "    .dataframe tbody tr th:only-of-type {\n",
       "        vertical-align: middle;\n",
       "    }\n",
       "\n",
       "    .dataframe tbody tr th {\n",
       "        vertical-align: top;\n",
       "    }\n",
       "\n",
       "    .dataframe thead th {\n",
       "        text-align: right;\n",
       "    }\n",
       "</style>\n",
       "<table border=\"1\" class=\"dataframe\">\n",
       "  <thead>\n",
       "    <tr style=\"text-align: right;\">\n",
       "      <th></th>\n",
       "      <th>data</th>\n",
       "      <th>route</th>\n",
       "      <th>direction</th>\n",
       "      <th>scheduled</th>\n",
       "      <th>actual</th>\n",
       "    </tr>\n",
       "  </thead>\n",
       "  <tbody>\n",
       "    <tr>\n",
       "      <th>count</th>\n",
       "      <td>39157</td>\n",
       "      <td>39157</td>\n",
       "      <td>39157</td>\n",
       "      <td>38917</td>\n",
       "      <td>39157</td>\n",
       "    </tr>\n",
       "    <tr>\n",
       "      <th>unique</th>\n",
       "      <td>63</td>\n",
       "      <td>3</td>\n",
       "      <td>2</td>\n",
       "      <td>1356</td>\n",
       "      <td>27633</td>\n",
       "    </tr>\n",
       "    <tr>\n",
       "      <th>top</th>\n",
       "      <td>2016-04-14</td>\n",
       "      <td>A</td>\n",
       "      <td>north</td>\n",
       "      <td>23:00:25</td>\n",
       "      <td>08:08:24</td>\n",
       "    </tr>\n",
       "    <tr>\n",
       "      <th>freq</th>\n",
       "      <td>693</td>\n",
       "      <td>13358</td>\n",
       "      <td>19686</td>\n",
       "      <td>64</td>\n",
       "      <td>8</td>\n",
       "    </tr>\n",
       "  </tbody>\n",
       "</table>\n",
       "</div>"
      ],
      "text/plain": [
       "              data  route direction scheduled    actual\n",
       "count        39157  39157     39157     38917     39157\n",
       "unique          63      3         2      1356     27633\n",
       "top     2016-04-14      A     north  23:00:25  08:08:24\n",
       "freq           693  13358     19686        64         8"
      ]
     },
     "metadata": {},
     "output_type": "display_data"
    },
    {
     "name": "stdout",
     "output_type": "stream",
     "text": [
      "<class 'pandas.core.frame.DataFrame'>\n",
      "Index: 39157 entries, 0 to 39156\n",
      "Data columns (total 5 columns):\n",
      " #   Column     Non-Null Count  Dtype \n",
      "---  ------     --------------  ----- \n",
      " 0   data       39157 non-null  object\n",
      " 1   route      39157 non-null  object\n",
      " 2   direction  39157 non-null  object\n",
      " 3   scheduled  38917 non-null  object\n",
      " 4   actual     39157 non-null  object\n",
      "dtypes: object(5)\n",
      "memory usage: 1.8+ MB\n"
     ]
    }
   ],
   "source": [
    "df = pd.read_csv('bus_table.csv')\n",
    "display(df.describe())\n",
    "df.info()"
   ]
  },
  {
   "cell_type": "code",
   "execution_count": 4,
   "id": "2c520078-f455-438c-9774-4fd15efd0964",
   "metadata": {
    "tags": []
   },
   "outputs": [
    {
     "data": {
      "text/plain": [
       "(240, 5)"
      ]
     },
     "execution_count": 4,
     "metadata": {},
     "output_type": "execute_result"
    }
   ],
   "source": [
    "df_null = df[df.isna().any(axis=1)].copy()\n",
    "df = df.dropna().copy()\n",
    "df_null.shape"
   ]
  },
  {
   "cell_type": "markdown",
   "id": "9f5d79ac-7e89-4eb2-bd24-5c08d5a2a304",
   "metadata": {},
   "source": [
    "\n",
    "- `table` дата/время прибытия автобусов по расписанию на остановку\n",
    "- `arrival` дата/временя актуального прибытия автобуса на остановку\n"
   ]
  },
  {
   "cell_type": "code",
   "execution_count": 6,
   "id": "5469b010-0085-4500-8d69-90e8cfeed64b",
   "metadata": {
    "tags": []
   },
   "outputs": [
    {
     "data": {
      "text/html": [
       "<div>\n",
       "<style scoped>\n",
       "    .dataframe tbody tr th:only-of-type {\n",
       "        vertical-align: middle;\n",
       "    }\n",
       "\n",
       "    .dataframe tbody tr th {\n",
       "        vertical-align: top;\n",
       "    }\n",
       "\n",
       "    .dataframe thead th {\n",
       "        text-align: right;\n",
       "    }\n",
       "</style>\n",
       "<table border=\"1\" class=\"dataframe\">\n",
       "  <thead>\n",
       "    <tr style=\"text-align: right;\">\n",
       "      <th></th>\n",
       "      <th>data</th>\n",
       "      <th>route</th>\n",
       "      <th>direction</th>\n",
       "      <th>scheduled</th>\n",
       "      <th>actual</th>\n",
       "      <th>table</th>\n",
       "      <th>arrival</th>\n",
       "    </tr>\n",
       "  </thead>\n",
       "  <tbody>\n",
       "    <tr>\n",
       "      <th>0</th>\n",
       "      <td>2016-03-26</td>\n",
       "      <td>A</td>\n",
       "      <td>south</td>\n",
       "      <td>01:11:57</td>\n",
       "      <td>01:13:19</td>\n",
       "      <td>2016-03-26 01:11:57</td>\n",
       "      <td>2016-03-26 01:13:19</td>\n",
       "    </tr>\n",
       "    <tr>\n",
       "      <th>1</th>\n",
       "      <td>2016-03-26</td>\n",
       "      <td>A</td>\n",
       "      <td>south</td>\n",
       "      <td>23:19:57</td>\n",
       "      <td>23:16:13</td>\n",
       "      <td>2016-03-26 23:19:57</td>\n",
       "      <td>2016-03-26 23:16:13</td>\n",
       "    </tr>\n",
       "    <tr>\n",
       "      <th>2</th>\n",
       "      <td>2016-03-26</td>\n",
       "      <td>A</td>\n",
       "      <td>south</td>\n",
       "      <td>21:19:57</td>\n",
       "      <td>21:18:46</td>\n",
       "      <td>2016-03-26 21:19:57</td>\n",
       "      <td>2016-03-26 21:18:46</td>\n",
       "    </tr>\n",
       "    <tr>\n",
       "      <th>3</th>\n",
       "      <td>2016-03-26</td>\n",
       "      <td>A</td>\n",
       "      <td>south</td>\n",
       "      <td>19:04:57</td>\n",
       "      <td>19:01:49</td>\n",
       "      <td>2016-03-26 19:04:57</td>\n",
       "      <td>2016-03-26 19:01:49</td>\n",
       "    </tr>\n",
       "    <tr>\n",
       "      <th>4</th>\n",
       "      <td>2016-03-26</td>\n",
       "      <td>A</td>\n",
       "      <td>south</td>\n",
       "      <td>16:42:57</td>\n",
       "      <td>16:42:39</td>\n",
       "      <td>2016-03-26 16:42:57</td>\n",
       "      <td>2016-03-26 16:42:39</td>\n",
       "    </tr>\n",
       "  </tbody>\n",
       "</table>\n",
       "</div>"
      ],
      "text/plain": [
       "         data route direction scheduled    actual               table  \\\n",
       "0  2016-03-26     A     south  01:11:57  01:13:19 2016-03-26 01:11:57   \n",
       "1  2016-03-26     A     south  23:19:57  23:16:13 2016-03-26 23:19:57   \n",
       "2  2016-03-26     A     south  21:19:57  21:18:46 2016-03-26 21:19:57   \n",
       "3  2016-03-26     A     south  19:04:57  19:01:49 2016-03-26 19:04:57   \n",
       "4  2016-03-26     A     south  16:42:57  16:42:39 2016-03-26 16:42:57   \n",
       "\n",
       "              arrival  \n",
       "0 2016-03-26 01:13:19  \n",
       "1 2016-03-26 23:16:13  \n",
       "2 2016-03-26 21:18:46  \n",
       "3 2016-03-26 19:01:49  \n",
       "4 2016-03-26 16:42:39  "
      ]
     },
     "execution_count": 6,
     "metadata": {},
     "output_type": "execute_result"
    }
   ],
   "source": [
    "df['table'] = pd.to_datetime(df['data'] + ' ' + df['scheduled'])\n",
    "df['arrival'] = pd.to_datetime(df['data'] + ' ' + df['actual'])\n",
    "df.head()"
   ]
  },
  {
   "cell_type": "code",
   "execution_count": 7,
   "id": "ef693313-10e9-49a9-a7ae-f689a710720d",
   "metadata": {
    "tags": []
   },
   "outputs": [
    {
     "data": {
      "text/html": [
       "<div>\n",
       "<style scoped>\n",
       "    .dataframe tbody tr th:only-of-type {\n",
       "        vertical-align: middle;\n",
       "    }\n",
       "\n",
       "    .dataframe tbody tr th {\n",
       "        vertical-align: top;\n",
       "    }\n",
       "\n",
       "    .dataframe thead th {\n",
       "        text-align: right;\n",
       "    }\n",
       "</style>\n",
       "<table border=\"1\" class=\"dataframe\">\n",
       "  <thead>\n",
       "    <tr style=\"text-align: right;\">\n",
       "      <th></th>\n",
       "      <th>data</th>\n",
       "      <th>route</th>\n",
       "      <th>direction</th>\n",
       "      <th>scheduled</th>\n",
       "      <th>actual</th>\n",
       "      <th>table</th>\n",
       "      <th>arrival</th>\n",
       "    </tr>\n",
       "  </thead>\n",
       "  <tbody>\n",
       "    <tr>\n",
       "      <th>0</th>\n",
       "      <td>2016-03-26</td>\n",
       "      <td>A</td>\n",
       "      <td>south</td>\n",
       "      <td>01:11:57</td>\n",
       "      <td>01:13:19</td>\n",
       "      <td>2016-03-26 01:11:57</td>\n",
       "      <td>2016-03-26 01:13:19</td>\n",
       "    </tr>\n",
       "    <tr>\n",
       "      <th>1</th>\n",
       "      <td>2016-03-26</td>\n",
       "      <td>A</td>\n",
       "      <td>south</td>\n",
       "      <td>23:19:57</td>\n",
       "      <td>23:16:13</td>\n",
       "      <td>2016-03-26 23:19:57</td>\n",
       "      <td>2016-03-26 23:16:13</td>\n",
       "    </tr>\n",
       "    <tr>\n",
       "      <th>2</th>\n",
       "      <td>2016-03-26</td>\n",
       "      <td>A</td>\n",
       "      <td>south</td>\n",
       "      <td>21:19:57</td>\n",
       "      <td>21:18:46</td>\n",
       "      <td>2016-03-26 21:19:57</td>\n",
       "      <td>2016-03-26 21:18:46</td>\n",
       "    </tr>\n",
       "    <tr>\n",
       "      <th>3</th>\n",
       "      <td>2016-03-26</td>\n",
       "      <td>A</td>\n",
       "      <td>south</td>\n",
       "      <td>19:04:57</td>\n",
       "      <td>19:01:49</td>\n",
       "      <td>2016-03-26 19:04:57</td>\n",
       "      <td>2016-03-26 19:01:49</td>\n",
       "    </tr>\n",
       "    <tr>\n",
       "      <th>4</th>\n",
       "      <td>2016-03-26</td>\n",
       "      <td>A</td>\n",
       "      <td>south</td>\n",
       "      <td>16:42:57</td>\n",
       "      <td>16:42:39</td>\n",
       "      <td>2016-03-26 16:42:57</td>\n",
       "      <td>2016-03-26 16:42:39</td>\n",
       "    </tr>\n",
       "  </tbody>\n",
       "</table>\n",
       "</div>"
      ],
      "text/plain": [
       "         data route direction scheduled    actual               table  \\\n",
       "0  2016-03-26     A     south  01:11:57  01:13:19 2016-03-26 01:11:57   \n",
       "1  2016-03-26     A     south  23:19:57  23:16:13 2016-03-26 23:19:57   \n",
       "2  2016-03-26     A     south  21:19:57  21:18:46 2016-03-26 21:19:57   \n",
       "3  2016-03-26     A     south  19:04:57  19:01:49 2016-03-26 19:04:57   \n",
       "4  2016-03-26     A     south  16:42:57  16:42:39 2016-03-26 16:42:57   \n",
       "\n",
       "              arrival  \n",
       "0 2016-03-26 01:13:19  \n",
       "1 2016-03-26 23:16:13  \n",
       "2 2016-03-26 21:18:46  \n",
       "3 2016-03-26 19:01:49  \n",
       "4 2016-03-26 16:42:39  "
      ]
     },
     "execution_count": 7,
     "metadata": {},
     "output_type": "execute_result"
    }
   ],
   "source": [
    "time_difference = df['table'] - df['arrival']\n",
    "time_difference_in_minutes = time_difference / timedelta(minutes=1)\n",
    "df.loc[time_difference_in_minutes >= 1000, 'arrival'] = df['arrival'] + dt.timedelta(days=1)\n",
    "df.loc[time_difference_in_minutes <= -1000, 'arrival'] = df['arrival'] - dt.timedelta(days=1)\n",
    "df.head()"
   ]
  },
  {
   "cell_type": "markdown",
   "id": "571d7107-e06e-4c03-bb20-48a1c52bcd8d",
   "metadata": {},
   "source": [
    "1. Три самые часто встречающиеся в расписании автобусов временные интервалы\n",
    "\n",
    "2. `inteval` - интервал по расписаню между автобусами в минутах\n",
    "\n",
    "3. `arr_inteval` - интервал по фактическому времени прибытия между автобусами в минутах"
   ]
  },
  {
   "cell_type": "code",
   "execution_count": 9,
   "id": "3edb5db5-6c67-4a56-8f7f-174d8bc7d43c",
   "metadata": {
    "tags": []
   },
   "outputs": [
    {
     "data": {
      "text/html": [
       "<div>\n",
       "<style scoped>\n",
       "    .dataframe tbody tr th:only-of-type {\n",
       "        vertical-align: middle;\n",
       "    }\n",
       "\n",
       "    .dataframe tbody tr th {\n",
       "        vertical-align: top;\n",
       "    }\n",
       "\n",
       "    .dataframe thead th {\n",
       "        text-align: right;\n",
       "    }\n",
       "</style>\n",
       "<table border=\"1\" class=\"dataframe\">\n",
       "  <thead>\n",
       "    <tr style=\"text-align: right;\">\n",
       "      <th></th>\n",
       "      <th>data</th>\n",
       "      <th>route</th>\n",
       "      <th>direction</th>\n",
       "      <th>scheduled</th>\n",
       "      <th>actual</th>\n",
       "      <th>table</th>\n",
       "      <th>arrival</th>\n",
       "      <th>inteval</th>\n",
       "      <th>arr_inteval</th>\n",
       "    </tr>\n",
       "  </thead>\n",
       "  <tbody>\n",
       "    <tr>\n",
       "      <th>0</th>\n",
       "      <td>2016-03-26</td>\n",
       "      <td>A</td>\n",
       "      <td>south</td>\n",
       "      <td>01:11:57</td>\n",
       "      <td>01:13:19</td>\n",
       "      <td>2016-03-26 01:11:57</td>\n",
       "      <td>2016-03-26 01:13:19</td>\n",
       "      <td>37.0</td>\n",
       "      <td>37.283333</td>\n",
       "    </tr>\n",
       "    <tr>\n",
       "      <th>1</th>\n",
       "      <td>2016-03-26</td>\n",
       "      <td>A</td>\n",
       "      <td>south</td>\n",
       "      <td>23:19:57</td>\n",
       "      <td>23:16:13</td>\n",
       "      <td>2016-03-26 23:19:57</td>\n",
       "      <td>2016-03-26 23:16:13</td>\n",
       "      <td>15.0</td>\n",
       "      <td>12.233333</td>\n",
       "    </tr>\n",
       "    <tr>\n",
       "      <th>2</th>\n",
       "      <td>2016-03-26</td>\n",
       "      <td>A</td>\n",
       "      <td>south</td>\n",
       "      <td>21:19:57</td>\n",
       "      <td>21:18:46</td>\n",
       "      <td>2016-03-26 21:19:57</td>\n",
       "      <td>2016-03-26 21:18:46</td>\n",
       "      <td>15.0</td>\n",
       "      <td>13.016667</td>\n",
       "    </tr>\n",
       "    <tr>\n",
       "      <th>3</th>\n",
       "      <td>2016-03-26</td>\n",
       "      <td>A</td>\n",
       "      <td>south</td>\n",
       "      <td>19:04:57</td>\n",
       "      <td>19:01:49</td>\n",
       "      <td>2016-03-26 19:04:57</td>\n",
       "      <td>2016-03-26 19:01:49</td>\n",
       "      <td>15.0</td>\n",
       "      <td>11.633333</td>\n",
       "    </tr>\n",
       "    <tr>\n",
       "      <th>4</th>\n",
       "      <td>2016-03-26</td>\n",
       "      <td>A</td>\n",
       "      <td>south</td>\n",
       "      <td>16:42:57</td>\n",
       "      <td>16:42:39</td>\n",
       "      <td>2016-03-26 16:42:57</td>\n",
       "      <td>2016-03-26 16:42:39</td>\n",
       "      <td>12.0</td>\n",
       "      <td>11.933333</td>\n",
       "    </tr>\n",
       "  </tbody>\n",
       "</table>\n",
       "</div>"
      ],
      "text/plain": [
       "         data route direction scheduled    actual               table  \\\n",
       "0  2016-03-26     A     south  01:11:57  01:13:19 2016-03-26 01:11:57   \n",
       "1  2016-03-26     A     south  23:19:57  23:16:13 2016-03-26 23:19:57   \n",
       "2  2016-03-26     A     south  21:19:57  21:18:46 2016-03-26 21:19:57   \n",
       "3  2016-03-26     A     south  19:04:57  19:01:49 2016-03-26 19:04:57   \n",
       "4  2016-03-26     A     south  16:42:57  16:42:39 2016-03-26 16:42:57   \n",
       "\n",
       "              arrival  inteval  arr_inteval  \n",
       "0 2016-03-26 01:13:19     37.0    37.283333  \n",
       "1 2016-03-26 23:16:13     15.0    12.233333  \n",
       "2 2016-03-26 21:18:46     15.0    13.016667  \n",
       "3 2016-03-26 19:01:49     15.0    11.633333  \n",
       "4 2016-03-26 16:42:39     12.0    11.933333  "
      ]
     },
     "execution_count": 9,
     "metadata": {},
     "output_type": "execute_result"
    }
   ],
   "source": [
    "def interval(data):\n",
    "    minute = np.timedelta64(1, 'm')\n",
    "    return data.sort_values().diff() / minute\n",
    "grouped = df.groupby(['route', 'direction'])\n",
    "df['inteval'] = grouped['table'].transform(interval)\n",
    "df['arr_inteval'] = grouped['arrival'].transform(interval)\n",
    "df.head()"
   ]
  },
  {
   "cell_type": "code",
   "execution_count": 10,
   "id": "01dbc9d2-9e6b-4182-b553-595b4d50e122",
   "metadata": {},
   "outputs": [
    {
     "data": {
      "text/plain": [
       "('A', 'north')"
      ]
     },
     "metadata": {},
     "output_type": "display_data"
    },
    {
     "data": {
      "text/plain": [
       "inteval\n",
       "12.0    1434\n",
       "15.0    1377\n",
       "7.0      756\n",
       "Name: count, dtype: int64"
      ]
     },
     "metadata": {},
     "output_type": "display_data"
    },
    {
     "data": {
      "text/plain": [
       "('A', 'south')"
      ]
     },
     "metadata": {},
     "output_type": "display_data"
    },
    {
     "data": {
      "text/plain": [
       "inteval\n",
       "15.0    1453\n",
       "12.0    1312\n",
       "8.0      710\n",
       "Name: count, dtype: int64"
      ]
     },
     "metadata": {},
     "output_type": "display_data"
    },
    {
     "data": {
      "text/plain": [
       "('B', 'north')"
      ]
     },
     "metadata": {},
     "output_type": "display_data"
    },
    {
     "data": {
      "text/plain": [
       "inteval\n",
       "15.0    1507\n",
       "12.0    1413\n",
       "8.0     1141\n",
       "Name: count, dtype: int64"
      ]
     },
     "metadata": {},
     "output_type": "display_data"
    },
    {
     "data": {
      "text/plain": [
       "('B', 'south')"
      ]
     },
     "metadata": {},
     "output_type": "display_data"
    },
    {
     "data": {
      "text/plain": [
       "inteval\n",
       "15.0    1391\n",
       "12.0    1300\n",
       "8.0     1159\n",
       "Name: count, dtype: int64"
      ]
     },
     "metadata": {},
     "output_type": "display_data"
    },
    {
     "data": {
      "text/plain": [
       "('C', 'north')"
      ]
     },
     "metadata": {},
     "output_type": "display_data"
    },
    {
     "data": {
      "text/plain": [
       "inteval\n",
       "10.0    1869\n",
       "15.0     590\n",
       "6.0      552\n",
       "Name: count, dtype: int64"
      ]
     },
     "metadata": {},
     "output_type": "display_data"
    },
    {
     "data": {
      "text/plain": [
       "('C', 'south')"
      ]
     },
     "metadata": {},
     "output_type": "display_data"
    },
    {
     "data": {
      "text/plain": [
       "inteval\n",
       "10.0    1342\n",
       "12.0    1087\n",
       "15.0    1049\n",
       "Name: count, dtype: int64"
      ]
     },
     "metadata": {},
     "output_type": "display_data"
    }
   ],
   "source": [
    "for (route,direction), group in df.groupby(['route', 'direction']):\n",
    "    display((route,direction))\n",
    "    display(group['inteval'].value_counts().nlargest(3))"
   ]
  },
  {
   "cell_type": "markdown",
   "id": "c35f3966-5a2c-4b94-a9de-8741cfd7497e",
   "metadata": {},
   "source": [
    "##### Нахождение максимального опережения расписания (со знаком минус) и максимального опоздания в минутах"
   ]
  },
  {
   "cell_type": "code",
   "execution_count": 12,
   "id": "cf2b3a59-657d-444f-9c49-38025c1fbbf8",
   "metadata": {},
   "outputs": [
    {
     "data": {
      "text/plain": [
       "-12.866666666666667"
      ]
     },
     "metadata": {},
     "output_type": "display_data"
    },
    {
     "data": {
      "text/plain": [
       "150.28333333333333"
      ]
     },
     "metadata": {},
     "output_type": "display_data"
    },
    {
     "data": {
      "text/html": [
       "<div>\n",
       "<style scoped>\n",
       "    .dataframe tbody tr th:only-of-type {\n",
       "        vertical-align: middle;\n",
       "    }\n",
       "\n",
       "    .dataframe tbody tr th {\n",
       "        vertical-align: top;\n",
       "    }\n",
       "\n",
       "    .dataframe thead th {\n",
       "        text-align: right;\n",
       "    }\n",
       "</style>\n",
       "<table border=\"1\" class=\"dataframe\">\n",
       "  <thead>\n",
       "    <tr style=\"text-align: right;\">\n",
       "      <th></th>\n",
       "      <th>data</th>\n",
       "      <th>route</th>\n",
       "      <th>direction</th>\n",
       "      <th>scheduled</th>\n",
       "      <th>actual</th>\n",
       "      <th>table</th>\n",
       "      <th>arrival</th>\n",
       "      <th>inteval</th>\n",
       "      <th>arr_inteval</th>\n",
       "      <th>late_in_minutes</th>\n",
       "    </tr>\n",
       "  </thead>\n",
       "  <tbody>\n",
       "    <tr>\n",
       "      <th>0</th>\n",
       "      <td>2016-03-26</td>\n",
       "      <td>A</td>\n",
       "      <td>south</td>\n",
       "      <td>01:11:57</td>\n",
       "      <td>01:13:19</td>\n",
       "      <td>2016-03-26 01:11:57</td>\n",
       "      <td>2016-03-26 01:13:19</td>\n",
       "      <td>37.0</td>\n",
       "      <td>37.283333</td>\n",
       "      <td>1.366667</td>\n",
       "    </tr>\n",
       "    <tr>\n",
       "      <th>1</th>\n",
       "      <td>2016-03-26</td>\n",
       "      <td>A</td>\n",
       "      <td>south</td>\n",
       "      <td>23:19:57</td>\n",
       "      <td>23:16:13</td>\n",
       "      <td>2016-03-26 23:19:57</td>\n",
       "      <td>2016-03-26 23:16:13</td>\n",
       "      <td>15.0</td>\n",
       "      <td>12.233333</td>\n",
       "      <td>-3.733333</td>\n",
       "    </tr>\n",
       "    <tr>\n",
       "      <th>2</th>\n",
       "      <td>2016-03-26</td>\n",
       "      <td>A</td>\n",
       "      <td>south</td>\n",
       "      <td>21:19:57</td>\n",
       "      <td>21:18:46</td>\n",
       "      <td>2016-03-26 21:19:57</td>\n",
       "      <td>2016-03-26 21:18:46</td>\n",
       "      <td>15.0</td>\n",
       "      <td>13.016667</td>\n",
       "      <td>-1.183333</td>\n",
       "    </tr>\n",
       "    <tr>\n",
       "      <th>3</th>\n",
       "      <td>2016-03-26</td>\n",
       "      <td>A</td>\n",
       "      <td>south</td>\n",
       "      <td>19:04:57</td>\n",
       "      <td>19:01:49</td>\n",
       "      <td>2016-03-26 19:04:57</td>\n",
       "      <td>2016-03-26 19:01:49</td>\n",
       "      <td>15.0</td>\n",
       "      <td>11.633333</td>\n",
       "      <td>-3.133333</td>\n",
       "    </tr>\n",
       "    <tr>\n",
       "      <th>4</th>\n",
       "      <td>2016-03-26</td>\n",
       "      <td>A</td>\n",
       "      <td>south</td>\n",
       "      <td>16:42:57</td>\n",
       "      <td>16:42:39</td>\n",
       "      <td>2016-03-26 16:42:57</td>\n",
       "      <td>2016-03-26 16:42:39</td>\n",
       "      <td>12.0</td>\n",
       "      <td>11.933333</td>\n",
       "      <td>-0.300000</td>\n",
       "    </tr>\n",
       "  </tbody>\n",
       "</table>\n",
       "</div>"
      ],
      "text/plain": [
       "         data route direction scheduled    actual               table  \\\n",
       "0  2016-03-26     A     south  01:11:57  01:13:19 2016-03-26 01:11:57   \n",
       "1  2016-03-26     A     south  23:19:57  23:16:13 2016-03-26 23:19:57   \n",
       "2  2016-03-26     A     south  21:19:57  21:18:46 2016-03-26 21:19:57   \n",
       "3  2016-03-26     A     south  19:04:57  19:01:49 2016-03-26 19:04:57   \n",
       "4  2016-03-26     A     south  16:42:57  16:42:39 2016-03-26 16:42:57   \n",
       "\n",
       "              arrival  inteval  arr_inteval  late_in_minutes  \n",
       "0 2016-03-26 01:13:19     37.0    37.283333         1.366667  \n",
       "1 2016-03-26 23:16:13     15.0    12.233333        -3.733333  \n",
       "2 2016-03-26 21:18:46     15.0    13.016667        -1.183333  \n",
       "3 2016-03-26 19:01:49     15.0    11.633333        -3.133333  \n",
       "4 2016-03-26 16:42:39     12.0    11.933333        -0.300000  "
      ]
     },
     "execution_count": 12,
     "metadata": {},
     "output_type": "execute_result"
    }
   ],
   "source": [
    "df['late_in_minutes'] = ((df['table'] - df['arrival']) / timedelta(minutes=1)) * -1\n",
    "display(df['late_in_minutes'].min(),df['late_in_minutes'].max())\n",
    "df.head()"
   ]
  },
  {
   "cell_type": "markdown",
   "id": "201d958b-b89a-4869-85e2-29d4e27750ee",
   "metadata": {},
   "source": [
    "### Построение  гистограмм для разницы интервалов между автобусами для различных маршрутов и направлений."
   ]
  },
  {
   "cell_type": "code",
   "execution_count": 14,
   "id": "d2460886-c230-4d61-8811-7564060b29e6",
   "metadata": {},
   "outputs": [
    {
     "data": {
      "text/plain": [
       "<seaborn.axisgrid.FacetGrid at 0x143127740>"
      ]
     },
     "execution_count": 14,
     "metadata": {},
     "output_type": "execute_result"
    },
    {
     "data": {
      "image/png": "[encoded data removed]",
      "text/plain": [
       "<Figure size 1136.62x600 with 6 Axes>"
      ]
     },
     "metadata": {},
     "output_type": "display_data"
    }
   ],
   "source": [
    "hist = sns.FacetGrid(df, row=\"direction\", col=\"route\", height=3, aspect=1)\n",
    "\n",
    "def plot_hist(data, color, label):\n",
    "    plt.hist(data, bins=np.arange(25), color=color, alpha=0.4, label=label)\n",
    "\n",
    "hist.map(plot_hist, \"inteval\", color=\"lime\", label=\"Интервал по расписанию\")\n",
    "hist.map(plot_hist, \"arr_inteval\", color=\"orange\", label=\"Интервал фактический\")\n",
    "hist.add_legend(title='Тип интервала')\n",
    "hist.set_titles('{col_name} {row_name}')\n",
    "hist.set_axis_labels('Интервалы в минутах', 'Количество автобусов')"
   ]
  },
  {
   "cell_type": "markdown",
   "id": "26607b05-e5d3-4edb-a040-bc17f19ccc51",
   "metadata": {},
   "source": [
    "### Построение  гистограмм времени опоздания автобуса в зависимости от маршрута и направления."
   ]
  },
  {
   "cell_type": "code",
   "execution_count": 16,
   "id": "9a398822-37f5-4e19-b695-22f58ce22e9e",
   "metadata": {},
   "outputs": [
    {
     "data": {
      "text/plain": [
       "<seaborn.axisgrid.FacetGrid at 0x143545be0>"
      ]
     },
     "execution_count": 16,
     "metadata": {},
     "output_type": "execute_result"
    },
    {
     "data": {
      "image/png": "[encoded data removed]",
      "text/plain": [
       "<Figure size 900x600 with 6 Axes>"
      ]
     },
     "metadata": {},
     "output_type": "display_data"
    }
   ],
   "source": [
    "hist2 = sns.FacetGrid(df, row=\"direction\", col=\"route\", height=3, aspect=1)\n",
    "hist2.map(plt.hist,\"late_in_minutes\", bins=np.arange(-13,25), color='cyan', alpha=0.4)\n",
    "hist2.set_titles('{col_name} {row_name}')\n",
    "hist2.set_axis_labels('Опоздание в минутах', 'Количество автобусов')"
   ]
  },
  {
   "cell_type": "markdown",
   "id": "73a26c55-846b-4e4a-87d5-52f2a048503b",
   "metadata": {},
   "source": [
    "#### Из графиков видно, что остановка, на которой собраны данные, находится ближе к северной конечной остановке маршрута A и ближе к южным конечным остановкам маршрутов B и C. \n",
    "Двигаясь с севера на юг по маршруту А опоздание не успевает накопиться так, как в случае движения на север. В случаях с маршрутами B и C наоборот."
   ]
  }
 ],
 "metadata": {
  "kernelspec": {
   "display_name": "Python 3 (ipykernel)",
   "language": "python",
   "name": "python3"
  },
  "language_info": {
   "codemirror_mode": {
    "name": "ipython",
    "version": 3
   },
   "file_extension": ".py",
   "mimetype": "text/x-python",
   "name": "python",
   "nbconvert_exporter": "python",
   "pygments_lexer": "ipython3",
   "version": "3.12.4"
  }
 },
 "nbformat": 4,
 "nbformat_minor": 5
}
